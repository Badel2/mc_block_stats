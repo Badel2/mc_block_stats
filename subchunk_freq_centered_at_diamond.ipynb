{
 "cells": [
  {
   "cell_type": "code",
   "execution_count": null,
   "id": "exempt-execution",
   "metadata": {
    "tags": []
   },
   "outputs": [],
   "source": [
    "%matplotlib widget\n",
    "import ipywidgets as widgets\n",
    "from ipywidgets import interact, interactive, fixed, interact_manual\n",
    "import matplotlib\n",
    "import matplotlib.pyplot as plt\n",
    "import numpy as np\n",
    "import json\n",
    "import os\n",
    "import copy\n",
    "\n",
    "# Fix cut off xlabel\n",
    "# https://stackoverflow.com/a/17390833\n",
    "from matplotlib import rcParams\n",
    "rcParams.update({'figure.autolayout': True})\n"
   ]
  },
  {
   "cell_type": "code",
   "execution_count": null,
   "id": "favorite-scholarship",
   "metadata": {
    "tags": []
   },
   "outputs": [],
   "source": [
    "def get_list_of_seeds(subchunk_freq_json_path):\n",
    "    with open(subchunk_freq_json_path) as json_file:\n",
    "        data = json.load(json_file)\n",
    "    seeds = [seed for [seed, _counts] in data[\"per_seed\"]]\n",
    "    return seeds"
   ]
  },
  {
   "cell_type": "code",
   "execution_count": null,
   "id": "collectible-climate",
   "metadata": {
    "tags": []
   },
   "outputs": [],
   "source": [
    "def plot_freq_block(data, block_name, filename):\n",
    "    H = np.zeros((16, 16))\n",
    "    try:\n",
    "        H += np.array_split(data[block_name], 16)\n",
    "    except KeyError:\n",
    "        pass\n",
    "    return plot_freq(H, block_name, filename)\n",
    "\n",
    "def plot_freq_block_sum(data, block_names, filename):\n",
    "    H = np.zeros((16, 16))\n",
    "    for block_name in block_names:\n",
    "        try:\n",
    "            H += np.array_split(data[block_name], 16)\n",
    "        except KeyError:\n",
    "            pass\n",
    "    block_name = \"+\".join(block_names)\n",
    "    return plot_freq(H, block_name, filename)\n",
    "\n",
    "def plot_freq(H, block_name, filename):    \n",
    "    print(f\"{block_name} mean: {np.mean(H)}, stddev: {np.std(H)}\")\n",
    "    move_to_diamonds = move_to_diamonds_msg(H)\n",
    "\n",
    "    #plt.imshow(H, interpolation='none')\n",
    "    #plt.show()\n",
    "    fig = plt.figure(figsize=(6, 4))\n",
    "\n",
    "    # https://stackoverflow.com/a/16492880\n",
    "    ax = fig.add_subplot(111)\n",
    "    ax.set_title(f'{block_name} frequency\\n(subchunk coordinates, centered at diamond ore at (8, 8))\\n{move_to_diamonds}', fontdict={'fontsize': 10})\n",
    "    plt.xlabel('x coordinate')\n",
    "    plt.ylabel('z coordinate')\n",
    "    \n",
    "    # I want to differentiate 0 from low values\n",
    "    # https://stackoverflow.com/a/22552651\n",
    "    # mask some 'bad' data, in your case you would have: data == 0\n",
    "    H = np.ma.masked_where(H == 0, H)\n",
    "    cmap = copy.copy(matplotlib.cm.get_cmap(\"viridis\"))\n",
    "    cmap.set_bad(color='black')\n",
    "\n",
    "    plt.imshow(H, interpolation='none', origin='upper', cmap = cmap)\n",
    "    ax.set_aspect('equal')\n",
    "    cax = fig.add_axes([0.12, 0.1, 0.78, 0.7])\n",
    "    cax.get_xaxis().set_visible(False)\n",
    "    cax.get_yaxis().set_visible(False)\n",
    "    cax.patch.set_alpha(0)\n",
    "    cax.set_frame_on(False)\n",
    "    plt.colorbar(orientation='vertical')\n",
    "    #plt.show()\n",
    "    # Ensure dir exists\n",
    "    os.makedirs(os.path.dirname(filename), exist_ok=True)\n",
    "    plt.savefig(filename)\n",
    "    plt.close()\n",
    "\n",
    "def sum_of_8_neighbors_and_center(H, idx):\n",
    "    [i, j] = idx\n",
    "    min_i = i-1\n",
    "    min_j = j-1\n",
    "    max_i = i+2\n",
    "    max_j = j+2\n",
    "    # https://stackoverflow.com/a/21396821\n",
    "    nei = np.take(H, range(min_i,max_i),mode='wrap', axis=0).take(range(min_j,max_j),mode='wrap',axis=1)\n",
    "    return np.sum(nei)\n",
    "\n",
    "def sum_of_24_neighbors_and_center(H, idx):\n",
    "    [i, j] = idx\n",
    "    min_i = i-2\n",
    "    min_j = j-2\n",
    "    max_i = i+3\n",
    "    max_j = j+3\n",
    "    # https://stackoverflow.com/a/21396821\n",
    "    nei = np.take(H, range(min_i,max_i),mode='wrap', axis=0).take(range(min_j,max_j),mode='wrap',axis=1)\n",
    "    return np.sum(nei)\n",
    "\n",
    "def item_prob_2_and_sum(data, block_name):\n",
    "    H = np.zeros((16, 16))\n",
    "    H += np.array_split(data[block_name], 16)\n",
    "\n",
    "    z, x = np.where(H == np.amax(H))\n",
    "    # in case of tie, take the one at index 0\n",
    "    x = x[0]\n",
    "    z = z[0]\n",
    "    # The probability is calculated as sum_of_8_neighbors_of_max_value / sum_of_all_values\n",
    "    if np.sum(H) == 0:\n",
    "        prob_1 = 0.0\n",
    "        prob_2 = 0.0\n",
    "    else:\n",
    "        prob_1 = sum_of_8_neighbors_and_center(H, [z, x]) / np.sum(H)\n",
    "        prob_2 = sum_of_24_neighbors_and_center(H, [z, x]) / np.sum(H)\n",
    "    return prob_2, np.sum(H)\n",
    "\n",
    "def move_to_diamonds_msg(H):\n",
    "    z, x = np.where(H == np.amax(H))\n",
    "    # in case of tie, take the one at index 0\n",
    "    x = x[0]\n",
    "    z = z[0]\n",
    "    # The probability is calculated as sum_of_8_neighbors_of_max_value / sum_of_all_values\n",
    "    #prob = np.amax(H) / np.sum(H)\n",
    "    if np.sum(H) == 0:\n",
    "        prob_1 = 0.0\n",
    "        prob_2 = 0.0\n",
    "    else:\n",
    "        prob_1 = sum_of_8_neighbors_and_center(H, [z, x]) / np.sum(H)\n",
    "        prob_2 = sum_of_24_neighbors_and_center(H, [z, x]) / np.sum(H)\n",
    "    move_to_str = f'To find diamonds move '\n",
    "    if 8 - x < 0:\n",
    "        move_to_str += f'{x - 8} blocks west (-x)'\n",
    "    else:\n",
    "        move_to_str += f'{8 - x} blocks east (+x)'\n",
    "    move_to_str += ' and '\n",
    "    if 8 - z < 0:\n",
    "        move_to_str += f'{z - 8} blocks north (-z)'\n",
    "    else:\n",
    "        move_to_str += f'{8 - z} blocks south (+z)'\n",
    "    move_to_str += f'.\\n{(8-x, 8-z)}, prob_1={prob_1:.03f}, prob_2={prob_2:.03f}'\n",
    "    return move_to_str"
   ]
  },
  {
   "cell_type": "code",
   "execution_count": null,
   "id": "ethical-blowing",
   "metadata": {
    "tags": []
   },
   "outputs": [],
   "source": [
    "subchunk_freq_json_path = 'subchunk_freq_centered_at_diamond.json'\n",
    "seeds = get_list_of_seeds(subchunk_freq_json_path)\n",
    "print(\"Data obtained from the average of a 2000x2000 block area from these seeds:\")\n",
    "print(seeds)\n",
    "\n",
    "with open(subchunk_freq_json_path) as json_file:\n",
    "    data = json.load(json_file)\n",
    "\n"
   ]
  },
  {
   "cell_type": "code",
   "execution_count": null,
   "id": "conceptual-involvement",
   "metadata": {
    "tags": []
   },
   "outputs": [],
   "source": [
    "def plot_ores(data, output_dir='plots_centered_at_diamond/ores/'):\n",
    "    # Plot ores by adding ore + deepslate_ore\n",
    "    plot_freq_block_sum(data, ['minecraft:coal_ore', 'minecraft:deepslate_coal_ore'], f'{output_dir}/coal_subchunk_freq.png')\n",
    "    plot_freq_block_sum(data, ['minecraft:copper_ore', 'minecraft:deepslate_copper_ore'], f'{output_dir}/copper_subchunk_freq.png')\n",
    "    plot_freq_block_sum(data, ['minecraft:diamond_ore', 'minecraft:deepslate_diamond_ore'], f'{output_dir}/diamond_subchunk_freq.png')\n",
    "    plot_freq_block_sum(data, ['minecraft:emerald_ore', 'minecraft:deepslate_emerald_ore'], f'{output_dir}/emerald_subchunk_freq.png')\n",
    "    plot_freq_block_sum(data, ['minecraft:gold_ore', 'minecraft:deepslate_gold_ore'], f'{output_dir}/gold_subchunk_freq.png')\n",
    "    plot_freq_block_sum(data, ['minecraft:iron_ore', 'minecraft:deepslate_iron_ore'], f'{output_dir}/iron_subchunk_freq.png')\n",
    "    plot_freq_block_sum(data, ['minecraft:lapis_ore', 'minecraft:deepslate_lapis_ore'], f'{output_dir}/lapis_subchunk_freq.png')\n",
    "    plot_freq_block_sum(data, ['minecraft:redstone_ore', 'minecraft:deepslate_redstone_ore'], f'{output_dir}/redstone_subchunk_freq.png')\n",
    "    \n",
    "def plot_interesting_blocks(data, output_dir):\n",
    "    def plot_per_seed_block(block_name):\n",
    "        plot_freq_block(x, block_name, f'{output_dir}/{block_name}_subchunk_freq.png')\n",
    "\n",
    "    for b in [        \n",
    "        'minecraft:andesite',\n",
    "        'minecraft:clay',\n",
    "        'minecraft:deepslate',\n",
    "        'minecraft:diorite',\n",
    "        'minecraft:granite',\n",
    "        'minecraft:infested_deepslate',\n",
    "        'minecraft:sand',\n",
    "        'minecraft:spawner',\n",
    "        'minecraft:stone',\n",
    "        'minecraft:tuff',\n",
    "    ]:\n",
    "        plot_per_seed_block(b)"
   ]
  },
  {
   "cell_type": "code",
   "execution_count": null,
   "id": "structured-encounter",
   "metadata": {},
   "outputs": [],
   "source": [
    "plot_ores(data['total'])"
   ]
  },
  {
   "cell_type": "code",
   "execution_count": null,
   "id": "fitted-duncan",
   "metadata": {
    "tags": []
   },
   "outputs": [],
   "source": [
    "for seed, x in data['per_seed']:\n",
    "    plot_ores(x, f'plots_centered_at_diamond/seeds/{seed}/ores/')\n",
    "    plot_interesting_blocks(x, f'plots_centered_at_diamond/seeds/{seed}/')    "
   ]
  },
  {
   "cell_type": "code",
   "execution_count": null,
   "id": "opposed-necessity",
   "metadata": {
    "tags": []
   },
   "outputs": [],
   "source": [
    "total = data['total']\n",
    "for block_name, counts in total.items():\n",
    "    plot_freq_block(total, block_name, f'plots_centered_at_diamond/{block_name}_subchunk_freq.png')"
   ]
  },
  {
   "cell_type": "code",
   "execution_count": null,
   "id": "biological-charter",
   "metadata": {},
   "outputs": [],
   "source": [
    "total = data['total']\n",
    "scores = []\n",
    "for block_name, counts in total.items():\n",
    "    p2, total_count = item_prob_2_and_sum(total, block_name)\n",
    "    # Also add a nice link\n",
    "    # https://www.freecodecamp.org/news/how-to-use-html-to-open-link-in-new-tab/\n",
    "    # TODO: this link may not always work because I do not escape special characters such as \"/\"\n",
    "    link_to_plot = f\"<a target='_blank' rel='noopener noreferrer' href='https://raw.githubusercontent.com/Badel2/mc_block_stats/master/plots_centered_at_diamond/{block_name}_subchunk_freq.png'>Show plot</a>\"\n",
    "    scores.append([p2, int(total_count), block_name, link_to_plot])\n",
    "\n",
    "scores.sort(key=lambda x: -x[0])\n",
    "scores.insert(0, [\"prob_2\", \"total_block_count\", \"block_name\"])\n",
    "\n",
    "# Display table as html\n",
    "# https://stackoverflow.com/a/35161699\n",
    "from IPython.display import HTML, display\n",
    "html_str = '<table><tr>{}</tr></table>'.format(\n",
    "       '</tr><tr>'.join(\n",
    "           '<td>{}</td>'.format('</td><td>'.join(str(_) for _ in row)) for row in scores)\n",
    "       )\n",
    "#display(HTML(html_str))\n",
    "\n",
    "# And write it to a file so it can be committed into the repo\n",
    "with open('prob_2_centered_at_diamond.html', 'w') as f:\n",
    "    f.write(html_str)\n"
   ]
  },
  {
   "cell_type": "code",
   "execution_count": null,
   "id": "broad-selection",
   "metadata": {
    "tags": []
   },
   "outputs": [],
   "source": [
    "subchunk_freq_all = data\n",
    "subchunk_freq_json_path = 'subchunk_freq_centered_at_diamond_odd_chunks.json'\n",
    "seeds = get_list_of_seeds(subchunk_freq_json_path)\n",
    "\n",
    "with open(subchunk_freq_json_path) as json_file:\n",
    "    data = json.load(json_file)\n"
   ]
  },
  {
   "cell_type": "code",
   "execution_count": null,
   "id": "treated-interim",
   "metadata": {
    "tags": []
   },
   "outputs": [],
   "source": [
    "def calculate_even_chunks_data_given_all_and_odd_chunks(all_chunks, odd_chunks):\n",
    "    # structure: {\n",
    "    # per_seed: [[seed, {block_id: counts}]]\n",
    "    # total: {block_id: counts}\n",
    "    # }\n",
    "    def subtract_counts(all_counts, odd_counts):\n",
    "        even_counts = copy.deepcopy(all_counts)\n",
    "        for i, x in enumerate(odd_counts):\n",
    "            even_counts[i] -= x\n",
    "        return even_counts\n",
    "\n",
    "    def seed_idx(data, target_seed):\n",
    "        i = 0\n",
    "        for i, (seed, per_seed) in enumerate(data):\n",
    "            if seed == target_seed:\n",
    "                return i\n",
    "        return None\n",
    "    \n",
    "    even_chunks = copy.deepcopy(all_chunks)\n",
    "    \n",
    "    for block_name, counts in odd_chunks['total'].items():\n",
    "        even_chunks['total'][block_name] = subtract_counts(all_chunks['total'][block_name], counts)\n",
    "    \n",
    "    for i, (seed, per_seed) in enumerate(odd_chunks['per_seed']):\n",
    "        even_seed_idx = seed_idx(even_chunks['per_seed'], seed)\n",
    "        #odd_seed_idx = seed_idx(odd_chunks['per_seed'], seed)\n",
    "        all_seed_idx = seed_idx(all_chunks['per_seed'], seed)\n",
    "        for block_name, counts in per_seed.items():\n",
    "            even_chunks['per_seed'][even_seed_idx][1][block_name] = subtract_counts(all_chunks['per_seed'][all_seed_idx][1][block_name], counts)\n",
    "            \n",
    "    return even_chunks\n",
    "\n",
    "data_odd = data\n",
    "data_even = calculate_even_chunks_data_given_all_and_odd_chunks(subchunk_freq_all, data_odd)"
   ]
  },
  {
   "cell_type": "code",
   "execution_count": null,
   "id": "superior-plate",
   "metadata": {
    "tags": []
   },
   "outputs": [],
   "source": [
    "plot_ores(data_even['total'], output_dir='plots_centered_at_diamond/even_chunks/ores/')\n",
    "plot_ores(data_odd['total'], output_dir='plots_centered_at_diamond/odd_chunks/ores/')"
   ]
  },
  {
   "cell_type": "code",
   "execution_count": null,
   "id": "resistant-courage",
   "metadata": {
    "tags": []
   },
   "outputs": [],
   "source": [
    "for seed, x in data_even['per_seed']:\n",
    "    plot_ores(x, f'plots_centered_at_diamond/even_chunks/seeds/{seed}/ores/')\n",
    "    plot_interesting_blocks(x, f'plots_centered_at_diamond/even_chunks/seeds/{seed}/')    \n",
    "    \n",
    "for seed, x in data_odd['per_seed']:\n",
    "    plot_ores(x, f'plots_centered_at_diamond/odd_chunks/seeds/{seed}/ores/')\n",
    "    plot_interesting_blocks(x, f'plots_centered_at_diamond/odd_chunks/seeds/{seed}/')    "
   ]
  },
  {
   "cell_type": "code",
   "execution_count": null,
   "id": "overhead-trigger",
   "metadata": {
    "tags": []
   },
   "outputs": [],
   "source": []
  }
 ],
 "metadata": {
  "kernelspec": {
   "display_name": "Python 3",
   "language": "python",
   "name": "python3"
  },
  "language_info": {
   "codemirror_mode": {
    "name": "ipython",
    "version": 3
   },
   "file_extension": ".py",
   "mimetype": "text/x-python",
   "name": "python",
   "nbconvert_exporter": "python",
   "pygments_lexer": "ipython3",
   "version": "3.8.6"
  }
 },
 "nbformat": 4,
 "nbformat_minor": 5
}
